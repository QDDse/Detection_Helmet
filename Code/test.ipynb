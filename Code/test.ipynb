{
 "cells": [
  {
   "cell_type": "code",
   "execution_count": 1,
   "id": "ebaff21a-5820-44f7-8ba4-8ae0d7d4a98f",
   "metadata": {},
   "outputs": [],
   "source": [
    "import torch \n",
    "from torch.utils.data import DataLoader, Dataset\n",
    "import torchvision\n",
    "import numpy as np\n",
    "import pandas as pd\n",
    "from PIL import Image\n",
    "import cv2\n",
    "import os\n",
    "import sys\n",
    "from tqdm.auto import tqdm\n",
    "from pathlib import Path\n",
    "from tqdm.notebook import tqdm\n",
    "from albumentations.pytorch import ToTensorV2\n",
    "import albumentations as A\n",
    "import matplotlib.pyplot as plt\n",
    "import glob, matplotlib.pyplot as plt, matplotlib.patches as patches"
   ]
  },
  {
   "cell_type": "code",
   "execution_count": 2,
   "id": "78e3c011-9013-4aa3-8945-7f04cc86bb76",
   "metadata": {},
   "outputs": [
    {
     "name": "stdout",
     "output_type": "stream",
     "text": [
      "4000\n"
     ]
    },
    {
     "data": {
      "text/plain": [
       "1000"
      ]
     },
     "execution_count": 2,
     "metadata": {},
     "output_type": "execute_result"
    }
   ],
   "source": [
    "train_path = '../Data/train_images/'\n",
    "train_ans_path = '../Data/train_anns/'\n",
    "test_path = '../Data/test_images/'\n",
    "sub_sample_path = '../Data/detection-results/'\n",
    "\n",
    "train_img_ls = os.listdir(train_path)\n",
    "print(len(train_img_ls))\n",
    "\n",
    "test_im_ls = os.listdir(test_path)\n",
    "len(test_im_ls)"
   ]
  },
  {
   "cell_type": "code",
   "execution_count": 3,
   "id": "de3e5aab-0a8e-4975-af89-0ce96cd0840b",
   "metadata": {},
   "outputs": [],
   "source": [
    "## Display the ans\n",
    "train_ans_ls = os.listdir(train_ans_path)  # txt\n",
    "\n",
    "def Load_ans(txt_path):\n",
    "    \n",
    "    \n",
    "    with open(txt_path, 'r') as F:\n",
    "        rows = F.readlines()\n",
    "        F.close()\n",
    "    train_ans = []\n",
    "    for row in tqdm(rows):\n",
    "        train_ans.append(row.strip('\\n'))\n",
    "        \n",
    "    return train_ans"
   ]
  },
  {
   "cell_type": "code",
   "execution_count": 4,
   "id": "dc96e9f6-cfdf-46cb-ac1a-64d55ab26d83",
   "metadata": {},
   "outputs": [],
   "source": [
    "train_ans_ls.sort()\n",
    "train_img_ls.sort()\n",
    "train_df = pd.DataFrame({\n",
    "    'img_path': train_img_ls,\n",
    "    'label_path': train_ans_ls[1:]\n",
    "})\n",
    "\n",
    "train_df.to_csv('../train_df.csv')"
   ]
  },
  {
   "cell_type": "code",
   "execution_count": 5,
   "id": "05b11440-e5fd-45a1-96bf-01e75a49d523",
   "metadata": {},
   "outputs": [],
   "source": [
    "CONFIG = {\n",
    "    'batch_size': 8,\n",
    "    'lr': 1e-3,\n",
    "    'num_workers': 8,\n",
    "    'epoch': 20\n",
    "}\n",
    "CLASS_NAME = ['__background__', 'helmet', 'head', 'person']\n",
    "NUM_CLASSES = len(CLASS_NAME)"
   ]
  },
  {
   "cell_type": "code",
   "execution_count": 6,
   "id": "6fe0fe73-bb01-4bcd-9912-f4621a22da97",
   "metadata": {},
   "outputs": [],
   "source": [
    "## Convert str to int\n",
    "def str2int(inp_list):\n",
    "    return list(map(int, inp_list))\n",
    "\n",
    "def Convert_label2xml(txt_path, target_path=None):\n",
    "    '''\n",
    "    将txt格式的label 转化成xml\n",
    "    args:\n",
    "        txt_path: Path of the txt\n",
    "        target_path: Path to save new format\n",
    "    '''\n",
    "    label_dict = {}\n",
    "    bboxes = []\n",
    "    with open(txt_path, 'r') as F:\n",
    "        rows = F.readlines()\n",
    "        F.close()\n",
    "    # print(rows)\n",
    "    num = len(rows)\n",
    "    head_id = []\n",
    "    for i, row in enumerate(rows):\n",
    "        row = row.strip('\\n')\n",
    "        # print(row)\n",
    "        # print(row.split(' ')[0])\n",
    "        if row.split(' ')[0] == 'head':\n",
    "            head_id.append(i)\n",
    "        bbox = row.split(' ')[1:]\n",
    "        ## 转化为 int\n",
    "        bboxes.append(str2int(bbox))\n",
    "    # print(bboxes)\n",
    "    # print(head_id)\n",
    "    label_dict['boxes'] = torch.from_numpy(np.array(bboxes))\n",
    "    labels = torch.ones(num) \n",
    "    labels[head_id] = 0\n",
    "    label_dict['labels'] = labels\n",
    "    return label_dict"
   ]
  },
  {
   "cell_type": "code",
   "execution_count": 67,
   "id": "e0ca066a-c78b-458b-9230-f851d43ac544",
   "metadata": {},
   "outputs": [],
   "source": [
    "## dataset\n",
    "class helmet_dataset(Dataset):\n",
    "    def __init__(self, df, class_name = CLASS_NAME, train_ans_path='../Data/train_anns/', train_img_path='../Data/train_images/', test_img_path='../Data/test_images/', transforms=None, is_train=True):\n",
    "        self.df = df\n",
    "        self.train_ans_path = train_ans_path\n",
    "        self.train_img_path = train_img_path\n",
    "        self.test_img_path = test_img_path\n",
    "        self.class_name = class_name\n",
    "        self.is_train = is_train\n",
    "        if transforms:\n",
    "            self.transforms= transforms\n",
    "        else:\n",
    "            self.transforms = A.Compose([\n",
    "                A.Resize(415, 415),\n",
    "                ToTensorV2()\n",
    "            ])\n",
    "    def __getitem__(self ,idx):\n",
    "        if self.is_train:\n",
    "            row = self.df.iloc[idx]\n",
    "            img = cv2.imread(os.path.join(self.train_img_path, row['img_path']))\n",
    "            img = cv2.cvtColor(img, cv2.COLOR_BGR2RGB)\n",
    "            img = img / 255.\n",
    "            img = self.transforms(image=img)['image']\n",
    "            label = self.Convert_label2xml(os.path.join(self.train_ans_path, row['label_path'])) ## dict\n",
    "\n",
    "            return img, label\n",
    "        else:\n",
    "            row = self.df.iloc[idx]\n",
    "            img = cv2.imread(os.path.join(self.test_img_path, row['img_path']))\n",
    "            img = cv2.cvtColor(img, cv2.COLOR_BGR2RGB)\n",
    "            img = img / 255.\n",
    "            img = self.transforms(image=img)['image']\n",
    "            \n",
    "            return img, row['img_path']\n",
    "\n",
    "    def __len__(self):\n",
    "        return len(self.train_df)\n",
    "\n",
    "    def str2int(self, inp_list):\n",
    "        return list(map(int, inp_list))\n",
    "\n",
    "    def Convert_label2xml(self, txt_path, target_path=None):\n",
    "        '''\n",
    "        将txt格式的label 转化成xml\n",
    "        args:\n",
    "            txt_path: Path of the txt\n",
    "            target_path: Path to save new format\n",
    "        '''\n",
    "        label_dict = {}\n",
    "        bboxes = []\n",
    "        with open(txt_path, 'r') as F:\n",
    "            rows = F.readlines()\n",
    "            F.close()\n",
    "        # print(rows)\n",
    "        num = len(rows)\n",
    "        head_id = []\n",
    "        bg_id =[]\n",
    "        person_id = []\n",
    "        for i, row in enumerate(rows):\n",
    "            row = row.strip('\\n')\n",
    "            # print(row)\n",
    "            # print(row.split(' ')[0])\n",
    "            if row.split(' ')[0] == 'head':\n",
    "                head_id.append(i)\n",
    "            if row.split(' ')[0] == 'person':\n",
    "                person_id.append(i)\n",
    "            if row.split(' ')[0] == '__background':\n",
    "                bg_id.append(i)\n",
    "            bbox = row.split(' ')[1:]\n",
    "            ## 转化为 int\n",
    "            bboxes.append(self.str2int(bbox))\n",
    "        # print(bboxes)\n",
    "        # print(head_id)\n",
    "        label_dict['boxes'] = torch.from_numpy(np.array(bboxes))\n",
    "        labels = torch.ones(num) \n",
    "        labels[head_id] = 2\n",
    "        labels[bg_id] = 0\n",
    "        labels[person_id] = 3\n",
    "        label_dict['labels'] = labels\n",
    "        return label_dict\n",
    "    # def finnal_label(self, kwargs):\n",
    "    #     '''\n",
    "    #     args:\n",
    "    #         kawargs: -->dict {'labels': , 'boxes': }\n",
    "    #     '''\n",
    "    #     boxex, labels = [], []\n",
    "    #     for lbl in kwargs['labels']:\n",
    "    #         labels.append(self.class_name.index())\n",
    "    \n",
    "# The collate_fn() will help us take care of tensors of varying sizes while creating\n",
    "# the training and validation data loaders.\n",
    "def collate_fn(batch):\n",
    "    \"\"\"\n",
    "    To handle the data loading as different images may have different number \n",
    "    of objects and to handle varying size tensors as well.\n",
    "    \"\"\"\n",
    "    return tuple(zip(*batch))"
   ]
  },
  {
   "cell_type": "code",
   "execution_count": 13,
   "id": "8e89f5dc-4194-4ce3-9908-3c7a83408b7b",
   "metadata": {},
   "outputs": [],
   "source": [
    "# creating customised FasterRCNN model\n",
    "\n",
    "from torchvision.models.detection.faster_rcnn import FastRCNNPredictor\n",
    "\n",
    "def create_model(num_classes):\n",
    "    # load Faster RCNN pre-trained model\n",
    "    model = torchvision.models.detection.fasterrcnn_resnet50_fpn(pretrained=True)\n",
    "    \n",
    "    # get the number of input features \n",
    "    in_features = model.roi_heads.box_predictor.cls_score.in_features\n",
    "    \n",
    "    # define a new head for the detector with required number of classes\n",
    "    model.roi_heads.box_predictor = FastRCNNPredictor(in_features, num_classes) \n",
    "    return model"
   ]
  },
  {
   "cell_type": "code",
   "execution_count": null,
   "id": "8a02b6af-bc89-4a27-8a78-e79a1bb6c354",
   "metadata": {},
   "outputs": [],
   "source": [
    "# initialize the model and move to the computation device GPU\n",
    "model = create_model(num_classes=NUM_CLASSES)\n",
    "model = model.to('cuda')\n",
    "ckpt = torch.load('../ckpts/9_27/best_model.pth')\n",
    "model.load_state_dict(ckpt['model'])\n",
    "# print('Training_loss :{}'.format(ckpt['loss']))"
   ]
  },
  {
   "cell_type": "code",
   "execution_count": 68,
   "id": "b5fc3ce1-bcd3-4cb8-b9b7-e6e5c585cde0",
   "metadata": {},
   "outputs": [],
   "source": [
    "# test_data\n",
    "test_im_ls = os.listdir(test_path)\n",
    "len(test_im_ls)\n",
    "test_im_ls.sort()\n",
    "test_df = pd.DataFrame({\n",
    "    'img_path': test_im_ls\n",
    "})\n",
    "test_df\n",
    "\n",
    "test_set = helmet_dataset(test_df, is_train=False)"
   ]
  },
  {
   "cell_type": "code",
   "execution_count": 188,
   "id": "ef5b052b-0116-4cbf-b9cf-820a3ec966b9",
   "metadata": {},
   "outputs": [],
   "source": [
    "def write2txt(label, bbox, scores, target_path):\n",
    "    \n",
    "    with open(target_path, 'w') as f:\n",
    "        for i in range(len(label)):\n",
    "            # print(i)\n",
    "            f.write(CLASS_NAME[label[i]])\n",
    "            f.write(' ' + str(scores[i]) + ' ')\n",
    "            f.write(str(bbox[i][0]) + ' ')\n",
    "            f.write(str(bbox[i][1]) + ' ')\n",
    "            f.write(str(bbox[i][2]) + ' ')\n",
    "            f.write(str(bbox[i][3]) + ' ')\n",
    "            f.write('\\n')"
   ]
  },
  {
   "cell_type": "code",
   "execution_count": 190,
   "id": "5383a029-9cb5-4588-a091-7b63114f5587",
   "metadata": {},
   "outputs": [
    {
     "data": {
      "application/vnd.jupyter.widget-view+json": {
       "model_id": "822c5c7e5dc04ef7a230a23c36958e65",
       "version_major": 2,
       "version_minor": 0
      },
      "text/plain": [
       "0it [00:00, ?it/s]"
      ]
     },
     "metadata": {},
     "output_type": "display_data"
    }
   ],
   "source": [
    "## inference\n",
    "model.eval()\n",
    "# test_pbar = tqdm(test_set, total=len(test_set))\n",
    "# label = []\n",
    "# bbox = []\n",
    "with torch.no_grad():\n",
    "    for data, name in tqdm(test_set):\n",
    "        out = model(data.cuda().to(torch.float32).unsqueeze(0))  ## return dict\n",
    "        label = list(out[0]['labels'].detach().cpu().numpy())\n",
    "        bbox = list(out[0]['boxes'].detach().cpu().numpy())\n",
    "        score = list(out[0]['scores'].detach().cpu().numpy())\n",
    "        ## write\n",
    "        \n",
    "        write2txt(label, bbox, score, target_path='../res/9_29/'+name.replace('png', 'txt'))\n",
    "        "
   ]
  },
  {
   "cell_type": "code",
   "execution_count": 187,
   "id": "0bafd67e-748b-420f-b916-3670bac358ab",
   "metadata": {},
   "outputs": [
    {
     "data": {
      "text/plain": [
       "[{'boxes': tensor([[ 37.3901, 162.6664, 120.1916, 260.4206],\n",
       "          [134.6002, 192.7815, 149.4224, 211.1556]], device='cuda:0'),\n",
       "  'labels': tensor([1, 1], device='cuda:0'),\n",
       "  'scores': tensor([0.9995, 0.1025], device='cuda:0')}]"
      ]
     },
     "execution_count": 187,
     "metadata": {},
     "output_type": "execute_result"
    }
   ],
   "source": [
    "out"
   ]
  },
  {
   "cell_type": "code",
   "execution_count": 149,
   "id": "5de28a09-a0d0-4549-aaa6-0cdf37bebe0c",
   "metadata": {},
   "outputs": [],
   "source": [
    "label = list(out[0]['labels'].detach().cpu().numpy())\n",
    "\n",
    "bbox = list(out[0]['boxes'].detach().cpu().numpy())"
   ]
  },
  {
   "cell_type": "code",
   "execution_count": 21,
   "id": "b7b54272-4f00-451c-863e-908bb86b8724",
   "metadata": {},
   "outputs": [],
   "source": [
    "## 验证submit\n",
    "sample_path = '../Data/detection-results/'\n",
    "sub_path = '../res/9_29/'\n",
    "\n",
    "assert len(os.listdir(sample_path)) == len(os.listdir(sub_path))\n",
    "\n",
    "samples = os.listdir(sample_path).sort()\n",
    "submits = os.listdir(sub_path).sort()\n",
    "\n"
   ]
  },
  {
   "cell_type": "code",
   "execution_count": 22,
   "id": "d87ceec9-2426-4484-a52c-8afb2c01dcf9",
   "metadata": {},
   "outputs": [],
   "source": [
    "samples = os.listdir(sample_path)\n",
    "submits = os.listdir(sub_path)"
   ]
  },
  {
   "cell_type": "code",
   "execution_count": 12,
   "id": "7cd467f8-44fe-4401-9fe4-0dea101717d8",
   "metadata": {},
   "outputs": [],
   "source": [
    "submits.remove('.ipynb_checkpoints')"
   ]
  },
  {
   "cell_type": "code",
   "execution_count": 23,
   "id": "6aca527d-b9d8-4ab4-9f76-b4c7f70a3e94",
   "metadata": {},
   "outputs": [
    {
     "data": {
      "text/plain": [
       "1001"
      ]
     },
     "execution_count": 23,
     "metadata": {},
     "output_type": "execute_result"
    }
   ],
   "source": [
    "len(submits)"
   ]
  },
  {
   "cell_type": "code",
   "execution_count": 18,
   "id": "3e2f532d-4e08-4d61-b32e-36eb1471f286",
   "metadata": {},
   "outputs": [
    {
     "ename": "OSError",
     "evalue": "[Errno 39] Directory not empty: '../res/9_29/.ipynb_checkpoints'",
     "output_type": "error",
     "traceback": [
      "\u001b[0;31m---------------------------------------------------------------------------\u001b[0m",
      "\u001b[0;31mOSError\u001b[0m                                   Traceback (most recent call last)",
      "\u001b[0;32m/tmp/ipykernel_804/2053989632.py\u001b[0m in \u001b[0;36m<module>\u001b[0;34m\u001b[0m\n\u001b[0;32m----> 1\u001b[0;31m \u001b[0mos\u001b[0m\u001b[0;34m.\u001b[0m\u001b[0mremovedirs\u001b[0m\u001b[0;34m(\u001b[0m\u001b[0;34m'../res/9_29/.ipynb_checkpoints'\u001b[0m\u001b[0;34m)\u001b[0m\u001b[0;34m\u001b[0m\u001b[0;34m\u001b[0m\u001b[0m\n\u001b[0m",
      "\u001b[0;32m~/miniconda3/lib/python3.8/os.py\u001b[0m in \u001b[0;36mremovedirs\u001b[0;34m(name)\u001b[0m\n\u001b[1;32m    239\u001b[0m \u001b[0;34m\u001b[0m\u001b[0m\n\u001b[1;32m    240\u001b[0m     \"\"\"\n\u001b[0;32m--> 241\u001b[0;31m     \u001b[0mrmdir\u001b[0m\u001b[0;34m(\u001b[0m\u001b[0mname\u001b[0m\u001b[0;34m)\u001b[0m\u001b[0;34m\u001b[0m\u001b[0;34m\u001b[0m\u001b[0m\n\u001b[0m\u001b[1;32m    242\u001b[0m     \u001b[0mhead\u001b[0m\u001b[0;34m,\u001b[0m \u001b[0mtail\u001b[0m \u001b[0;34m=\u001b[0m \u001b[0mpath\u001b[0m\u001b[0;34m.\u001b[0m\u001b[0msplit\u001b[0m\u001b[0;34m(\u001b[0m\u001b[0mname\u001b[0m\u001b[0;34m)\u001b[0m\u001b[0;34m\u001b[0m\u001b[0;34m\u001b[0m\u001b[0m\n\u001b[1;32m    243\u001b[0m     \u001b[0;32mif\u001b[0m \u001b[0;32mnot\u001b[0m \u001b[0mtail\u001b[0m\u001b[0;34m:\u001b[0m\u001b[0;34m\u001b[0m\u001b[0;34m\u001b[0m\u001b[0m\n",
      "\u001b[0;31mOSError\u001b[0m: [Errno 39] Directory not empty: '../res/9_29/.ipynb_checkpoints'"
     ]
    }
   ],
   "source": [
    "os.removedirs('../res/9_29/.ipynb_checkpoints', )"
   ]
  },
  {
   "cell_type": "code",
   "execution_count": 20,
   "id": "c9203b41-44cb-416d-8b1a-5ef1b285a44b",
   "metadata": {},
   "outputs": [
    {
     "ename": "IndexError",
     "evalue": "list index out of range",
     "output_type": "error",
     "traceback": [
      "\u001b[0;31m---------------------------------------------------------------------------\u001b[0m",
      "\u001b[0;31mIndexError\u001b[0m                                Traceback (most recent call last)",
      "\u001b[0;32m/tmp/ipykernel_804/3997551457.py\u001b[0m in \u001b[0;36m<module>\u001b[0;34m\u001b[0m\n\u001b[0;32m----> 1\u001b[0;31m \u001b[0mget_ipython\u001b[0m\u001b[0;34m(\u001b[0m\u001b[0;34m)\u001b[0m\u001b[0;34m.\u001b[0m\u001b[0mrun_cell_magic\u001b[0m\u001b[0;34m(\u001b[0m\u001b[0;34m'script'\u001b[0m\u001b[0;34m,\u001b[0m \u001b[0;34m''\u001b[0m\u001b[0;34m,\u001b[0m \u001b[0;34m'\\n!rm -rf ../res/9_29/.ipynb_checkpoints/\\n'\u001b[0m\u001b[0;34m)\u001b[0m\u001b[0;34m\u001b[0m\u001b[0;34m\u001b[0m\u001b[0m\n\u001b[0m",
      "\u001b[0;32m~/miniconda3/lib/python3.8/site-packages/IPython/core/interactiveshell.py\u001b[0m in \u001b[0;36mrun_cell_magic\u001b[0;34m(self, magic_name, line, cell)\u001b[0m\n\u001b[1;32m   2404\u001b[0m             \u001b[0;32mwith\u001b[0m \u001b[0mself\u001b[0m\u001b[0;34m.\u001b[0m\u001b[0mbuiltin_trap\u001b[0m\u001b[0;34m:\u001b[0m\u001b[0;34m\u001b[0m\u001b[0;34m\u001b[0m\u001b[0m\n\u001b[1;32m   2405\u001b[0m                 \u001b[0margs\u001b[0m \u001b[0;34m=\u001b[0m \u001b[0;34m(\u001b[0m\u001b[0mmagic_arg_s\u001b[0m\u001b[0;34m,\u001b[0m \u001b[0mcell\u001b[0m\u001b[0;34m)\u001b[0m\u001b[0;34m\u001b[0m\u001b[0;34m\u001b[0m\u001b[0m\n\u001b[0;32m-> 2406\u001b[0;31m                 \u001b[0mresult\u001b[0m \u001b[0;34m=\u001b[0m \u001b[0mfn\u001b[0m\u001b[0;34m(\u001b[0m\u001b[0;34m*\u001b[0m\u001b[0margs\u001b[0m\u001b[0;34m,\u001b[0m \u001b[0;34m**\u001b[0m\u001b[0mkwargs\u001b[0m\u001b[0;34m)\u001b[0m\u001b[0;34m\u001b[0m\u001b[0;34m\u001b[0m\u001b[0m\n\u001b[0m\u001b[1;32m   2407\u001b[0m             \u001b[0;32mreturn\u001b[0m \u001b[0mresult\u001b[0m\u001b[0;34m\u001b[0m\u001b[0;34m\u001b[0m\u001b[0m\n\u001b[1;32m   2408\u001b[0m \u001b[0;34m\u001b[0m\u001b[0m\n",
      "\u001b[0;32m~/miniconda3/lib/python3.8/site-packages/decorator.py\u001b[0m in \u001b[0;36mfun\u001b[0;34m(*args, **kw)\u001b[0m\n\u001b[1;32m    230\u001b[0m             \u001b[0;32mif\u001b[0m \u001b[0;32mnot\u001b[0m \u001b[0mkwsyntax\u001b[0m\u001b[0;34m:\u001b[0m\u001b[0;34m\u001b[0m\u001b[0;34m\u001b[0m\u001b[0m\n\u001b[1;32m    231\u001b[0m                 \u001b[0margs\u001b[0m\u001b[0;34m,\u001b[0m \u001b[0mkw\u001b[0m \u001b[0;34m=\u001b[0m \u001b[0mfix\u001b[0m\u001b[0;34m(\u001b[0m\u001b[0margs\u001b[0m\u001b[0;34m,\u001b[0m \u001b[0mkw\u001b[0m\u001b[0;34m,\u001b[0m \u001b[0msig\u001b[0m\u001b[0;34m)\u001b[0m\u001b[0;34m\u001b[0m\u001b[0;34m\u001b[0m\u001b[0m\n\u001b[0;32m--> 232\u001b[0;31m             \u001b[0;32mreturn\u001b[0m \u001b[0mcaller\u001b[0m\u001b[0;34m(\u001b[0m\u001b[0mfunc\u001b[0m\u001b[0;34m,\u001b[0m \u001b[0;34m*\u001b[0m\u001b[0;34m(\u001b[0m\u001b[0mextras\u001b[0m \u001b[0;34m+\u001b[0m \u001b[0margs\u001b[0m\u001b[0;34m)\u001b[0m\u001b[0;34m,\u001b[0m \u001b[0;34m**\u001b[0m\u001b[0mkw\u001b[0m\u001b[0;34m)\u001b[0m\u001b[0;34m\u001b[0m\u001b[0;34m\u001b[0m\u001b[0m\n\u001b[0m\u001b[1;32m    233\u001b[0m     \u001b[0mfun\u001b[0m\u001b[0;34m.\u001b[0m\u001b[0m__name__\u001b[0m \u001b[0;34m=\u001b[0m \u001b[0mfunc\u001b[0m\u001b[0;34m.\u001b[0m\u001b[0m__name__\u001b[0m\u001b[0;34m\u001b[0m\u001b[0;34m\u001b[0m\u001b[0m\n\u001b[1;32m    234\u001b[0m     \u001b[0mfun\u001b[0m\u001b[0;34m.\u001b[0m\u001b[0m__doc__\u001b[0m \u001b[0;34m=\u001b[0m \u001b[0mfunc\u001b[0m\u001b[0;34m.\u001b[0m\u001b[0m__doc__\u001b[0m\u001b[0;34m\u001b[0m\u001b[0;34m\u001b[0m\u001b[0m\n",
      "\u001b[0;32m~/miniconda3/lib/python3.8/site-packages/IPython/core/magic.py\u001b[0m in \u001b[0;36m<lambda>\u001b[0;34m(f, *a, **k)\u001b[0m\n\u001b[1;32m    185\u001b[0m     \u001b[0;31m# but it's overkill for just that one bit of state.\u001b[0m\u001b[0;34m\u001b[0m\u001b[0;34m\u001b[0m\u001b[0;34m\u001b[0m\u001b[0m\n\u001b[1;32m    186\u001b[0m     \u001b[0;32mdef\u001b[0m \u001b[0mmagic_deco\u001b[0m\u001b[0;34m(\u001b[0m\u001b[0marg\u001b[0m\u001b[0;34m)\u001b[0m\u001b[0;34m:\u001b[0m\u001b[0;34m\u001b[0m\u001b[0;34m\u001b[0m\u001b[0m\n\u001b[0;32m--> 187\u001b[0;31m         \u001b[0mcall\u001b[0m \u001b[0;34m=\u001b[0m \u001b[0;32mlambda\u001b[0m \u001b[0mf\u001b[0m\u001b[0;34m,\u001b[0m \u001b[0;34m*\u001b[0m\u001b[0ma\u001b[0m\u001b[0;34m,\u001b[0m \u001b[0;34m**\u001b[0m\u001b[0mk\u001b[0m\u001b[0;34m:\u001b[0m \u001b[0mf\u001b[0m\u001b[0;34m(\u001b[0m\u001b[0;34m*\u001b[0m\u001b[0ma\u001b[0m\u001b[0;34m,\u001b[0m \u001b[0;34m**\u001b[0m\u001b[0mk\u001b[0m\u001b[0;34m)\u001b[0m\u001b[0;34m\u001b[0m\u001b[0;34m\u001b[0m\u001b[0m\n\u001b[0m\u001b[1;32m    188\u001b[0m \u001b[0;34m\u001b[0m\u001b[0m\n\u001b[1;32m    189\u001b[0m         \u001b[0;32mif\u001b[0m \u001b[0mcallable\u001b[0m\u001b[0;34m(\u001b[0m\u001b[0marg\u001b[0m\u001b[0;34m)\u001b[0m\u001b[0;34m:\u001b[0m\u001b[0;34m\u001b[0m\u001b[0;34m\u001b[0m\u001b[0m\n",
      "\u001b[0;32m~/miniconda3/lib/python3.8/site-packages/IPython/core/magics/script.py\u001b[0m in \u001b[0;36mshebang\u001b[0;34m(self, line, cell)\u001b[0m\n\u001b[1;32m    180\u001b[0m \u001b[0;34m\u001b[0m\u001b[0m\n\u001b[1;32m    181\u001b[0m         \u001b[0;32mtry\u001b[0m\u001b[0;34m:\u001b[0m\u001b[0;34m\u001b[0m\u001b[0;34m\u001b[0m\u001b[0m\n\u001b[0;32m--> 182\u001b[0;31m             \u001b[0mp\u001b[0m \u001b[0;34m=\u001b[0m \u001b[0mPopen\u001b[0m\u001b[0;34m(\u001b[0m\u001b[0mcmd\u001b[0m\u001b[0;34m,\u001b[0m \u001b[0mstdout\u001b[0m\u001b[0;34m=\u001b[0m\u001b[0mPIPE\u001b[0m\u001b[0;34m,\u001b[0m \u001b[0mstderr\u001b[0m\u001b[0;34m=\u001b[0m\u001b[0mPIPE\u001b[0m\u001b[0;34m,\u001b[0m \u001b[0mstdin\u001b[0m\u001b[0;34m=\u001b[0m\u001b[0mPIPE\u001b[0m\u001b[0;34m)\u001b[0m\u001b[0;34m\u001b[0m\u001b[0;34m\u001b[0m\u001b[0m\n\u001b[0m\u001b[1;32m    183\u001b[0m         \u001b[0;32mexcept\u001b[0m \u001b[0mOSError\u001b[0m \u001b[0;32mas\u001b[0m \u001b[0me\u001b[0m\u001b[0;34m:\u001b[0m\u001b[0;34m\u001b[0m\u001b[0;34m\u001b[0m\u001b[0m\n\u001b[1;32m    184\u001b[0m             \u001b[0;32mif\u001b[0m \u001b[0me\u001b[0m\u001b[0;34m.\u001b[0m\u001b[0merrno\u001b[0m \u001b[0;34m==\u001b[0m \u001b[0merrno\u001b[0m\u001b[0;34m.\u001b[0m\u001b[0mENOENT\u001b[0m\u001b[0;34m:\u001b[0m\u001b[0;34m\u001b[0m\u001b[0;34m\u001b[0m\u001b[0m\n",
      "\u001b[0;32m~/miniconda3/lib/python3.8/subprocess.py\u001b[0m in \u001b[0;36m__init__\u001b[0;34m(self, args, bufsize, executable, stdin, stdout, stderr, preexec_fn, close_fds, shell, cwd, env, universal_newlines, startupinfo, creationflags, restore_signals, start_new_session, pass_fds, encoding, errors, text)\u001b[0m\n\u001b[1;32m    856\u001b[0m                             encoding=encoding, errors=errors)\n\u001b[1;32m    857\u001b[0m \u001b[0;34m\u001b[0m\u001b[0m\n\u001b[0;32m--> 858\u001b[0;31m             self._execute_child(args, executable, preexec_fn, close_fds,\n\u001b[0m\u001b[1;32m    859\u001b[0m                                 \u001b[0mpass_fds\u001b[0m\u001b[0;34m,\u001b[0m \u001b[0mcwd\u001b[0m\u001b[0;34m,\u001b[0m \u001b[0menv\u001b[0m\u001b[0;34m,\u001b[0m\u001b[0;34m\u001b[0m\u001b[0;34m\u001b[0m\u001b[0m\n\u001b[1;32m    860\u001b[0m                                 \u001b[0mstartupinfo\u001b[0m\u001b[0;34m,\u001b[0m \u001b[0mcreationflags\u001b[0m\u001b[0;34m,\u001b[0m \u001b[0mshell\u001b[0m\u001b[0;34m,\u001b[0m\u001b[0;34m\u001b[0m\u001b[0;34m\u001b[0m\u001b[0m\n",
      "\u001b[0;32m~/miniconda3/lib/python3.8/subprocess.py\u001b[0m in \u001b[0;36m_execute_child\u001b[0;34m(self, args, executable, preexec_fn, close_fds, pass_fds, cwd, env, startupinfo, creationflags, shell, p2cread, p2cwrite, c2pread, c2pwrite, errread, errwrite, restore_signals, start_new_session)\u001b[0m\n\u001b[1;32m   1578\u001b[0m \u001b[0;34m\u001b[0m\u001b[0m\n\u001b[1;32m   1579\u001b[0m             \u001b[0;32mif\u001b[0m \u001b[0mexecutable\u001b[0m \u001b[0;32mis\u001b[0m \u001b[0;32mNone\u001b[0m\u001b[0;34m:\u001b[0m\u001b[0;34m\u001b[0m\u001b[0;34m\u001b[0m\u001b[0m\n\u001b[0;32m-> 1580\u001b[0;31m                 \u001b[0mexecutable\u001b[0m \u001b[0;34m=\u001b[0m \u001b[0margs\u001b[0m\u001b[0;34m[\u001b[0m\u001b[0;36m0\u001b[0m\u001b[0;34m]\u001b[0m\u001b[0;34m\u001b[0m\u001b[0;34m\u001b[0m\u001b[0m\n\u001b[0m\u001b[1;32m   1581\u001b[0m \u001b[0;34m\u001b[0m\u001b[0m\n\u001b[1;32m   1582\u001b[0m             \u001b[0msys\u001b[0m\u001b[0;34m.\u001b[0m\u001b[0maudit\u001b[0m\u001b[0;34m(\u001b[0m\u001b[0;34m\"subprocess.Popen\"\u001b[0m\u001b[0;34m,\u001b[0m \u001b[0mexecutable\u001b[0m\u001b[0;34m,\u001b[0m \u001b[0margs\u001b[0m\u001b[0;34m,\u001b[0m \u001b[0mcwd\u001b[0m\u001b[0;34m,\u001b[0m \u001b[0menv\u001b[0m\u001b[0;34m)\u001b[0m\u001b[0;34m\u001b[0m\u001b[0;34m\u001b[0m\u001b[0m\n",
      "\u001b[0;31mIndexError\u001b[0m: list index out of range"
     ]
    }
   ],
   "source": [
    "%%script\n",
    "\n",
    "!rm -rf ../res/9_29/.ipynb_checkpoints/"
   ]
  },
  {
   "cell_type": "code",
   "execution_count": 24,
   "id": "c2433eb9-02a0-4d5e-b8b4-2d3015529426",
   "metadata": {},
   "outputs": [
    {
     "name": "stdout",
     "output_type": "stream",
     "text": [
      "  % Total    % Received % Xferd  Average Speed   Time    Time     Time  Current\n",
      "                                 Dload  Upload   Total   Spent    Left  Speed\n",
      "100 3071k  100 3071k    0     0  5838k      0 --:--:-- --:--:-- --:--:-- 5838k\n"
     ]
    }
   ],
   "source": [
    "!curl -L -o /usr/bin/arc http://autodl-public.ks3-cn-beijing.ksyun.com/tool/arc && chmod +x /usr/bin/arc\n",
    "!arc compress detection-results.zip ../res/"
   ]
  },
  {
   "cell_type": "code",
   "execution_count": null,
   "id": "dd95d40b-b74a-4647-828b-6d6d46eb6156",
   "metadata": {},
   "outputs": [],
   "source": []
  }
 ],
 "metadata": {
  "kernelspec": {
   "display_name": "Python 3 (ipykernel)",
   "language": "python",
   "name": "python3"
  },
  "language_info": {
   "codemirror_mode": {
    "name": "ipython",
    "version": 3
   },
   "file_extension": ".py",
   "mimetype": "text/x-python",
   "name": "python",
   "nbconvert_exporter": "python",
   "pygments_lexer": "ipython3",
   "version": "3.8.10"
  }
 },
 "nbformat": 4,
 "nbformat_minor": 5
}
