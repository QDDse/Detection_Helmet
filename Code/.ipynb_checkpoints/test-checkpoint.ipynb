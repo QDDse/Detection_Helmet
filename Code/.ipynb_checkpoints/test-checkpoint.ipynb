{
 "cells": [
  {
   "cell_type": "code",
   "execution_count": 37,
   "id": "ebaff21a-5820-44f7-8ba4-8ae0d7d4a98f",
   "metadata": {},
   "outputs": [],
   "source": [
    "import torch \n",
    "from torch.utils.data import DataLoader, Dataset\n",
    "import torchvision\n",
    "import numpy as np\n",
    "import pandas as pd\n",
    "from PIL import Image\n",
    "import cv2\n",
    "import os\n",
    "import sys\n",
    "from tqdm.auto import tqdm\n",
    "from pathlib import Path\n",
    "from tqdm.notebook import tqdm\n",
    "from albumentations.pytorch import ToTensorV2\n",
    "import albumentations as A\n",
    "import matplotlib.pyplot as plt\n",
    "import glob, matplotlib.pyplot as plt, matplotlib.patches as patches"
   ]
  },
  {
   "cell_type": "code",
   "execution_count": 2,
   "id": "78e3c011-9013-4aa3-8945-7f04cc86bb76",
   "metadata": {},
   "outputs": [
    {
     "name": "stdout",
     "output_type": "stream",
     "text": [
      "4000\n"
     ]
    },
    {
     "data": {
      "text/plain": [
       "1000"
      ]
     },
     "execution_count": 2,
     "metadata": {},
     "output_type": "execute_result"
    }
   ],
   "source": [
    "train_path = '../Data/train_images/'\n",
    "train_ans_path = '../Data/train_anns/'\n",
    "test_path = '../Data/test_images/'\n",
    "sub_sample_path = '../Data/detection-results/'\n",
    "\n",
    "train_img_ls = os.listdir(train_path)\n",
    "print(len(train_img_ls))\n",
    "\n",
    "test_im_ls = os.listdir(test_path)\n",
    "len(test_im_ls)"
   ]
  },
  {
   "cell_type": "code",
   "execution_count": 3,
   "id": "de3e5aab-0a8e-4975-af89-0ce96cd0840b",
   "metadata": {},
   "outputs": [],
   "source": [
    "## Display the ans\n",
    "train_ans_ls = os.listdir(train_ans_path)  # txt\n",
    "\n",
    "def Load_ans(txt_path):\n",
    "    \n",
    "    \n",
    "    with open(txt_path, 'r') as F:\n",
    "        rows = F.readlines()\n",
    "        F.close()\n",
    "    train_ans = []\n",
    "    for row in tqdm(rows):\n",
    "        train_ans.append(row.strip('\\n'))\n",
    "        \n",
    "    return train_ans"
   ]
  },
  {
   "cell_type": "code",
   "execution_count": 4,
   "id": "dc96e9f6-cfdf-46cb-ac1a-64d55ab26d83",
   "metadata": {},
   "outputs": [],
   "source": [
    "train_ans_ls.sort()\n",
    "train_img_ls.sort()\n",
    "train_df = pd.DataFrame({\n",
    "    'img_path': train_img_ls,\n",
    "    'label_path': train_ans_ls[1:]\n",
    "})\n",
    "\n",
    "train_df.to_csv('../train_df.csv')"
   ]
  },
  {
   "cell_type": "code",
   "execution_count": 5,
   "id": "05b11440-e5fd-45a1-96bf-01e75a49d523",
   "metadata": {},
   "outputs": [],
   "source": [
    "CONFIG = {\n",
    "    'batch_size': 8,\n",
    "    'lr': 1e-3,\n",
    "    'num_workers': 8,\n",
    "    'epoch': 20\n",
    "}\n",
    "CLASS_NAME = ['__background__', 'helmet', 'head', 'person']\n",
    "NUM_CLASSES = len(CLASS_NAME)"
   ]
  },
  {
   "cell_type": "code",
   "execution_count": 6,
   "id": "6fe0fe73-bb01-4bcd-9912-f4621a22da97",
   "metadata": {},
   "outputs": [],
   "source": [
    "## Convert str to int\n",
    "def str2int(inp_list):\n",
    "    return list(map(int, inp_list))\n",
    "\n",
    "def Convert_label2xml(txt_path, target_path=None):\n",
    "    '''\n",
    "    将txt格式的label 转化成xml\n",
    "    args:\n",
    "        txt_path: Path of the txt\n",
    "        target_path: Path to save new format\n",
    "    '''\n",
    "    label_dict = {}\n",
    "    bboxes = []\n",
    "    with open(txt_path, 'r') as F:\n",
    "        rows = F.readlines()\n",
    "        F.close()\n",
    "    # print(rows)\n",
    "    num = len(rows)\n",
    "    head_id = []\n",
    "    for i, row in enumerate(rows):\n",
    "        row = row.strip('\\n')\n",
    "        # print(row)\n",
    "        # print(row.split(' ')[0])\n",
    "        if row.split(' ')[0] == 'head':\n",
    "            head_id.append(i)\n",
    "        bbox = row.split(' ')[1:]\n",
    "        ## 转化为 int\n",
    "        bboxes.append(str2int(bbox))\n",
    "    # print(bboxes)\n",
    "    # print(head_id)\n",
    "    label_dict['boxes'] = torch.from_numpy(np.array(bboxes))\n",
    "    labels = torch.ones(num) \n",
    "    labels[head_id] = 0\n",
    "    label_dict['labels'] = labels\n",
    "    return label_dict"
   ]
  },
  {
   "cell_type": "code",
   "execution_count": 67,
   "id": "e0ca066a-c78b-458b-9230-f851d43ac544",
   "metadata": {},
   "outputs": [],
   "source": [
    "## dataset\n",
    "class helmet_dataset(Dataset):\n",
    "    def __init__(self, df, class_name = CLASS_NAME, train_ans_path='../Data/train_anns/', train_img_path='../Data/train_images/', test_img_path='../Data/test_images/', transforms=None, is_train=True):\n",
    "        self.df = df\n",
    "        self.train_ans_path = train_ans_path\n",
    "        self.train_img_path = train_img_path\n",
    "        self.test_img_path = test_img_path\n",
    "        self.class_name = class_name\n",
    "        self.is_train = is_train\n",
    "        if transforms:\n",
    "            self.transforms= transforms\n",
    "        else:\n",
    "            self.transforms = A.Compose([\n",
    "                A.Resize(415, 415),\n",
    "                ToTensorV2()\n",
    "            ])\n",
    "    def __getitem__(self ,idx):\n",
    "        if self.is_train:\n",
    "            row = self.df.iloc[idx]\n",
    "            img = cv2.imread(os.path.join(self.train_img_path, row['img_path']))\n",
    "            img = cv2.cvtColor(img, cv2.COLOR_BGR2RGB)\n",
    "            img = img / 255.\n",
    "            img = self.transforms(image=img)['image']\n",
    "            label = self.Convert_label2xml(os.path.join(self.train_ans_path, row['label_path'])) ## dict\n",
    "\n",
    "            return img, label\n",
    "        else:\n",
    "            row = self.df.iloc[idx]\n",
    "            img = cv2.imread(os.path.join(self.test_img_path, row['img_path']))\n",
    "            img = cv2.cvtColor(img, cv2.COLOR_BGR2RGB)\n",
    "            img = img / 255.\n",
    "            img = self.transforms(image=img)['image']\n",
    "            \n",
    "            return img, row['img_path']\n",
    "\n",
    "    def __len__(self):\n",
    "        return len(self.train_df)\n",
    "\n",
    "    def str2int(self, inp_list):\n",
    "        return list(map(int, inp_list))\n",
    "\n",
    "    def Convert_label2xml(self, txt_path, target_path=None):\n",
    "        '''\n",
    "        将txt格式的label 转化成xml\n",
    "        args:\n",
    "            txt_path: Path of the txt\n",
    "            target_path: Path to save new format\n",
    "        '''\n",
    "        label_dict = {}\n",
    "        bboxes = []\n",
    "        with open(txt_path, 'r') as F:\n",
    "            rows = F.readlines()\n",
    "            F.close()\n",
    "        # print(rows)\n",
    "        num = len(rows)\n",
    "        head_id = []\n",
    "        bg_id =[]\n",
    "        person_id = []\n",
    "        for i, row in enumerate(rows):\n",
    "            row = row.strip('\\n')\n",
    "            # print(row)\n",
    "            # print(row.split(' ')[0])\n",
    "            if row.split(' ')[0] == 'head':\n",
    "                head_id.append(i)\n",
    "            if row.split(' ')[0] == 'person':\n",
    "                person_id.append(i)\n",
    "            if row.split(' ')[0] == '__background':\n",
    "                bg_id.append(i)\n",
    "            bbox = row.split(' ')[1:]\n",
    "            ## 转化为 int\n",
    "            bboxes.append(self.str2int(bbox))\n",
    "        # print(bboxes)\n",
    "        # print(head_id)\n",
    "        label_dict['boxes'] = torch.from_numpy(np.array(bboxes))\n",
    "        labels = torch.ones(num) \n",
    "        labels[head_id] = 2\n",
    "        labels[bg_id] = 0\n",
    "        labels[person_id] = 3\n",
    "        label_dict['labels'] = labels\n",
    "        return label_dict\n",
    "    # def finnal_label(self, kwargs):\n",
    "    #     '''\n",
    "    #     args:\n",
    "    #         kawargs: -->dict {'labels': , 'boxes': }\n",
    "    #     '''\n",
    "    #     boxex, labels = [], []\n",
    "    #     for lbl in kwargs['labels']:\n",
    "    #         labels.append(self.class_name.index())\n",
    "    \n",
    "# The collate_fn() will help us take care of tensors of varying sizes while creating\n",
    "# the training and validation data loaders.\n",
    "def collate_fn(batch):\n",
    "    \"\"\"\n",
    "    To handle the data loading as different images may have different number \n",
    "    of objects and to handle varying size tensors as well.\n",
    "    \"\"\"\n",
    "    return tuple(zip(*batch))"
   ]
  },
  {
   "cell_type": "code",
   "execution_count": 13,
   "id": "8e89f5dc-4194-4ce3-9908-3c7a83408b7b",
   "metadata": {},
   "outputs": [],
   "source": [
    "# creating customised FasterRCNN model\n",
    "\n",
    "from torchvision.models.detection.faster_rcnn import FastRCNNPredictor\n",
    "\n",
    "def create_model(num_classes):\n",
    "    # load Faster RCNN pre-trained model\n",
    "    model = torchvision.models.detection.fasterrcnn_resnet50_fpn(pretrained=True)\n",
    "    \n",
    "    # get the number of input features \n",
    "    in_features = model.roi_heads.box_predictor.cls_score.in_features\n",
    "    \n",
    "    # define a new head for the detector with required number of classes\n",
    "    model.roi_heads.box_predictor = FastRCNNPredictor(in_features, num_classes) \n",
    "    return model"
   ]
  },
  {
   "cell_type": "code",
   "execution_count": null,
   "id": "8a02b6af-bc89-4a27-8a78-e79a1bb6c354",
   "metadata": {},
   "outputs": [],
   "source": [
    "# initialize the model and move to the computation device GPU\n",
    "model = create_model(num_classes=NUM_CLASSES)\n",
    "model = model.to('cuda')\n",
    "ckpt = torch.load('../ckpts/9_27/best_model.pth')\n",
    "model.load_state_dict(ckpt['model'])\n",
    "# print('Training_loss :{}'.format(ckpt['loss']))"
   ]
  },
  {
   "cell_type": "code",
   "execution_count": 41,
   "id": "2ae14edf-cce6-411a-8e33-63ac24e18508",
   "metadata": {},
   "outputs": [],
   "source": [
    "model.eval()\n",
    "out = model(test_set[0].cuda().to(torch.float32).unsqueeze(0))"
   ]
  },
  {
   "cell_type": "code",
   "execution_count": 64,
   "id": "4bea1fbd-5cda-446f-b8d4-be9c345a0cb6",
   "metadata": {},
   "outputs": [
    {
     "data": {
      "text/plain": [
       "tensor([277.3014, 129.8995, 308.7963, 171.5587], device='cuda:0')"
      ]
     },
     "execution_count": 64,
     "metadata": {},
     "output_type": "execute_result"
    }
   ],
   "source": [
    "out[0]['boxes'].detach()[0]"
   ]
  },
  {
   "cell_type": "code",
   "execution_count": 68,
   "id": "b5fc3ce1-bcd3-4cb8-b9b7-e6e5c585cde0",
   "metadata": {},
   "outputs": [],
   "source": [
    "# test_data\n",
    "test_im_ls = os.listdir(test_path)\n",
    "len(test_im_ls)\n",
    "test_im_ls.sort()\n",
    "test_df = pd.DataFrame({\n",
    "    'img_path': test_im_ls\n",
    "})\n",
    "test_df\n",
    "\n",
    "test_set = helmet_dataset(test_df, is_train=False)"
   ]
  },
  {
   "cell_type": "code",
   "execution_count": 70,
   "id": "6b75f1a5-49b9-4043-98d0-4478e673c706",
   "metadata": {},
   "outputs": [
    {
     "data": {
      "text/plain": [
       "(tensor([[[0.8078, 0.8078, 0.8079,  ..., 0.8432, 0.8431, 0.8431],\n",
       "          [0.8078, 0.8078, 0.8079,  ..., 0.8432, 0.8431, 0.8431],\n",
       "          [0.8078, 0.8078, 0.8079,  ..., 0.8432, 0.8431, 0.8431],\n",
       "          ...,\n",
       "          [0.8392, 0.8432, 0.8471,  ..., 0.8392, 0.8353, 0.8314],\n",
       "          [0.8353, 0.8392, 0.8393,  ..., 0.8392, 0.8353, 0.8353],\n",
       "          [0.8314, 0.8353, 0.8392,  ..., 0.8392, 0.8392, 0.8353]],\n",
       " \n",
       "         [[0.8118, 0.8118, 0.8118,  ..., 0.8392, 0.8392, 0.8392],\n",
       "          [0.8118, 0.8118, 0.8118,  ..., 0.8392, 0.8392, 0.8392],\n",
       "          [0.8118, 0.8118, 0.8118,  ..., 0.8392, 0.8392, 0.8392],\n",
       "          ...,\n",
       "          [0.8353, 0.8393, 0.8432,  ..., 0.8353, 0.8314, 0.8275],\n",
       "          [0.8314, 0.8353, 0.8353,  ..., 0.8353, 0.8314, 0.8314],\n",
       "          [0.8275, 0.8314, 0.8353,  ..., 0.8353, 0.8353, 0.8314]],\n",
       " \n",
       "         [[0.8314, 0.8314, 0.8314,  ..., 0.8628, 0.8627, 0.8627],\n",
       "          [0.8314, 0.8314, 0.8314,  ..., 0.8628, 0.8627, 0.8627],\n",
       "          [0.8314, 0.8314, 0.8314,  ..., 0.8628, 0.8627, 0.8627],\n",
       "          ...,\n",
       "          [0.8589, 0.8628, 0.8667,  ..., 0.8588, 0.8549, 0.8510],\n",
       "          [0.8549, 0.8588, 0.8589,  ..., 0.8588, 0.8549, 0.8549],\n",
       "          [0.8510, 0.8549, 0.8588,  ..., 0.8588, 0.8588, 0.8549]]],\n",
       "        dtype=torch.float64),\n",
       " 'hard_hat_workers4000.png')"
      ]
     },
     "execution_count": 70,
     "metadata": {},
     "output_type": "execute_result"
    }
   ],
   "source": [
    "test_set[0]"
   ]
  },
  {
   "cell_type": "code",
   "execution_count": 36,
   "id": "5383a029-9cb5-4588-a091-7b63114f5587",
   "metadata": {},
   "outputs": [],
   "source": [
    "## inference\n",
    "model.eval()\n",
    "test_pbar = tqdm(test_set, total=len(test_set))\n",
    "# label = []\n",
    "# bbox = []\n",
    "with torch.no_grad():\n",
    "    for data, name in test_pbar:\n",
    "        out = model(data)  ## return dict\n",
    "        label = list(out[0]['labels'].detach().cpu().numpy())\n",
    "        bbox = list(out[0]['boxes'].detach().cpu().numpy())\n",
    "        \n",
    "        with open(os.path.join('../res/9_29/', name), 'w') as f:\n",
    "            f.write()\n",
    "        "
   ]
  },
  {
   "cell_type": "code",
   "execution_count": 85,
   "id": "8d9e3d35-e297-43a3-a3e1-7fd9891403db",
   "metadata": {},
   "outputs": [],
   "source": [
    "box = out[0]['boxes'].detach().cpu()\n",
    "box = list(box.numpy())\n",
    "\n",
    "boxex = [str(i) for i in box[0]]"
   ]
  },
  {
   "cell_type": "code",
   "execution_count": 91,
   "id": "8d2c12d3-f8e4-419d-8114-1183e306951e",
   "metadata": {},
   "outputs": [],
   "source": [
    "boxex_txt = ' '.join(boxex)"
   ]
  },
  {
   "cell_type": "code",
   "execution_count": 92,
   "id": "e571ab79-c67c-463e-8033-196ffd93a8f1",
   "metadata": {},
   "outputs": [
    {
     "data": {
      "text/plain": [
       "'277.3014 129.89952 308.79633 171.55872'"
      ]
     },
     "execution_count": 92,
     "metadata": {},
     "output_type": "execute_result"
    }
   ],
   "source": [
    "boxex_txt"
   ]
  },
  {
   "cell_type": "code",
   "execution_count": 90,
   "id": "e6cbb4b4-65cd-4f69-998d-569163f078bc",
   "metadata": {},
   "outputs": [
    {
     "ename": "TypeError",
     "evalue": "write() argument must be str, not list",
     "output_type": "error",
     "traceback": [
      "\u001b[0;31m---------------------------------------------------------------------------\u001b[0m",
      "\u001b[0;31mTypeError\u001b[0m                                 Traceback (most recent call last)",
      "\u001b[0;32m/tmp/ipykernel_318/1645244713.py\u001b[0m in \u001b[0;36m<module>\u001b[0;34m\u001b[0m\n\u001b[1;32m      1\u001b[0m \u001b[0mbox\u001b[0m \u001b[0;34m=\u001b[0m \u001b[0mout\u001b[0m\u001b[0;34m[\u001b[0m\u001b[0;36m0\u001b[0m\u001b[0;34m]\u001b[0m\u001b[0;34m[\u001b[0m\u001b[0;34m'boxes'\u001b[0m\u001b[0;34m]\u001b[0m\u001b[0;34m.\u001b[0m\u001b[0mdetach\u001b[0m\u001b[0;34m(\u001b[0m\u001b[0;34m)\u001b[0m\u001b[0;34m\u001b[0m\u001b[0;34m\u001b[0m\u001b[0m\n\u001b[1;32m      2\u001b[0m \u001b[0;32mwith\u001b[0m \u001b[0mopen\u001b[0m\u001b[0;34m(\u001b[0m\u001b[0;34m'test.txt'\u001b[0m\u001b[0;34m,\u001b[0m \u001b[0;34m'w'\u001b[0m\u001b[0;34m)\u001b[0m \u001b[0;32mas\u001b[0m \u001b[0mf\u001b[0m\u001b[0;34m:\u001b[0m\u001b[0;34m\u001b[0m\u001b[0;34m\u001b[0m\u001b[0m\n\u001b[0;32m----> 3\u001b[0;31m     \u001b[0mf\u001b[0m\u001b[0;34m.\u001b[0m\u001b[0mwrite\u001b[0m\u001b[0;34m(\u001b[0m\u001b[0mboxex\u001b[0m\u001b[0;34m)\u001b[0m\u001b[0;34m\u001b[0m\u001b[0;34m\u001b[0m\u001b[0m\n\u001b[0m\u001b[1;32m      4\u001b[0m \u001b[0;34m\u001b[0m\u001b[0m\n",
      "\u001b[0;31mTypeError\u001b[0m: write() argument must be str, not list"
     ]
    }
   ],
   "source": [
    "box = out[0]['boxes'].detach()\n",
    "with open('test.txt', 'w') as f:\n",
    "    \n",
    "    f.write(targ)\n",
    "    "
   ]
  },
  {
   "cell_type": "code",
   "execution_count": 93,
   "id": "b3fd379c-50f2-4c9e-b995-900960c2f580",
   "metadata": {},
   "outputs": [
    {
     "data": {
      "text/plain": [
       "['__background__', 'helmet', 'head', 'person']"
      ]
     },
     "execution_count": 93,
     "metadata": {},
     "output_type": "execute_result"
    }
   ],
   "source": [
    "CLASS_NAME[]"
   ]
  },
  {
   "cell_type": "code",
   "execution_count": 103,
   "id": "ef5b052b-0116-4cbf-b9cf-820a3ec966b9",
   "metadata": {},
   "outputs": [],
   "source": [
    "def write2txt(label, bbox, target_path):\n",
    "    bbox = [str(i) for i in box[0]]\n",
    "    with open(target_path, 'w') as f:\n",
    "        for i in range(len(label)):\n",
    "            f.write(CLASS_NAME[label[i]])\n",
    "            f.write(' ' + str(label[i]) + ' ')\n",
    "            bbox_txt = ' '.join(bbox[i])\n",
    "            f.write(bbox_txt)\n",
    "            f.write('/n')"
   ]
  },
  {
   "cell_type": "code",
   "execution_count": 98,
   "id": "5de28a09-a0d0-4549-aaa6-0cdf37bebe0c",
   "metadata": {},
   "outputs": [],
   "source": [
    "label = list(out[0]['labels'].detach().cpu().numpy())\n",
    "\n",
    "bbox = list(out[0]['boxes'].detach().cpu().numpy())"
   ]
  },
  {
   "cell_type": "code",
   "execution_count": 106,
   "id": "74c74ef9-1482-4568-9578-45b3f3b7504e",
   "metadata": {},
   "outputs": [
    {
     "ename": "TypeError",
     "evalue": "sequence item 0: expected str instance, numpy.float32 found",
     "output_type": "error",
     "traceback": [
      "\u001b[0;31m---------------------------------------------------------------------------\u001b[0m",
      "\u001b[0;31mTypeError\u001b[0m                                 Traceback (most recent call last)",
      "\u001b[0;32m/tmp/ipykernel_318/2078229527.py\u001b[0m in \u001b[0;36m<module>\u001b[0;34m\u001b[0m\n\u001b[0;32m----> 1\u001b[0;31m \u001b[0mlabel\u001b[0m\u001b[0;34m,\u001b[0m \u001b[0;34m' '\u001b[0m\u001b[0;34m.\u001b[0m\u001b[0mjoin\u001b[0m\u001b[0;34m(\u001b[0m\u001b[0mbbox\u001b[0m\u001b[0;34m[\u001b[0m\u001b[0;36m0\u001b[0m\u001b[0;34m]\u001b[0m\u001b[0;34m)\u001b[0m\u001b[0;34m\u001b[0m\u001b[0;34m\u001b[0m\u001b[0m\n\u001b[0m",
      "\u001b[0;31mTypeError\u001b[0m: sequence item 0: expected str instance, numpy.float32 found"
     ]
    }
   ],
   "source": [
    "label, ' '.join(bbox[0])"
   ]
  },
  {
   "cell_type": "code",
   "execution_count": 104,
   "id": "6eaf05c1-25d9-4d40-be68-c93acfa74a50",
   "metadata": {
    "tags": []
   },
   "outputs": [
    {
     "ename": "TypeError",
     "evalue": "sequence item 0: expected str instance, numpy.float32 found",
     "output_type": "error",
     "traceback": [
      "\u001b[0;31m---------------------------------------------------------------------------\u001b[0m",
      "\u001b[0;31mTypeError\u001b[0m                                 Traceback (most recent call last)",
      "\u001b[0;32m/tmp/ipykernel_318/2024428368.py\u001b[0m in \u001b[0;36m<module>\u001b[0;34m\u001b[0m\n\u001b[0;32m----> 1\u001b[0;31m \u001b[0mwrite2txt\u001b[0m\u001b[0;34m(\u001b[0m\u001b[0mlabel\u001b[0m\u001b[0;34m,\u001b[0m \u001b[0mbbox\u001b[0m\u001b[0;34m,\u001b[0m \u001b[0;34m'test.txt'\u001b[0m\u001b[0;34m)\u001b[0m\u001b[0;34m\u001b[0m\u001b[0;34m\u001b[0m\u001b[0m\n\u001b[0m",
      "\u001b[0;32m/tmp/ipykernel_318/3360925599.py\u001b[0m in \u001b[0;36mwrite2txt\u001b[0;34m(label, bbox, target_path)\u001b[0m\n\u001b[1;32m      4\u001b[0m             \u001b[0mf\u001b[0m\u001b[0;34m.\u001b[0m\u001b[0mwrite\u001b[0m\u001b[0;34m(\u001b[0m\u001b[0mCLASS_NAME\u001b[0m\u001b[0;34m[\u001b[0m\u001b[0mlabel\u001b[0m\u001b[0;34m[\u001b[0m\u001b[0mi\u001b[0m\u001b[0;34m]\u001b[0m\u001b[0;34m]\u001b[0m\u001b[0;34m)\u001b[0m\u001b[0;34m\u001b[0m\u001b[0;34m\u001b[0m\u001b[0m\n\u001b[1;32m      5\u001b[0m             \u001b[0mf\u001b[0m\u001b[0;34m.\u001b[0m\u001b[0mwrite\u001b[0m\u001b[0;34m(\u001b[0m\u001b[0;34m' '\u001b[0m \u001b[0;34m+\u001b[0m \u001b[0mstr\u001b[0m\u001b[0;34m(\u001b[0m\u001b[0mlabel\u001b[0m\u001b[0;34m[\u001b[0m\u001b[0mi\u001b[0m\u001b[0;34m]\u001b[0m\u001b[0;34m)\u001b[0m \u001b[0;34m+\u001b[0m \u001b[0;34m' '\u001b[0m\u001b[0;34m)\u001b[0m\u001b[0;34m\u001b[0m\u001b[0;34m\u001b[0m\u001b[0m\n\u001b[0;32m----> 6\u001b[0;31m             \u001b[0mbbox_txt\u001b[0m \u001b[0;34m=\u001b[0m \u001b[0;34m' '\u001b[0m\u001b[0;34m.\u001b[0m\u001b[0mjoin\u001b[0m\u001b[0;34m(\u001b[0m\u001b[0mbbox\u001b[0m\u001b[0;34m[\u001b[0m\u001b[0mi\u001b[0m\u001b[0;34m]\u001b[0m\u001b[0;34m)\u001b[0m\u001b[0;34m\u001b[0m\u001b[0;34m\u001b[0m\u001b[0m\n\u001b[0m\u001b[1;32m      7\u001b[0m             \u001b[0mf\u001b[0m\u001b[0;34m.\u001b[0m\u001b[0mwrite\u001b[0m\u001b[0;34m(\u001b[0m\u001b[0mbbox_txt\u001b[0m\u001b[0;34m)\u001b[0m\u001b[0;34m\u001b[0m\u001b[0;34m\u001b[0m\u001b[0m\n\u001b[1;32m      8\u001b[0m             \u001b[0mf\u001b[0m\u001b[0;34m.\u001b[0m\u001b[0mwrite\u001b[0m\u001b[0;34m(\u001b[0m\u001b[0;34m'/n'\u001b[0m\u001b[0;34m)\u001b[0m\u001b[0;34m\u001b[0m\u001b[0;34m\u001b[0m\u001b[0m\n",
      "\u001b[0;31mTypeError\u001b[0m: sequence item 0: expected str instance, numpy.float32 found"
     ]
    }
   ],
   "source": [
    "write2txt(label, bbox, 'test.txt')"
   ]
  },
  {
   "cell_type": "code",
   "execution_count": null,
   "id": "c376391a-1dc9-4fbc-8d83-ea8a468ad00c",
   "metadata": {},
   "outputs": [],
   "source": []
  }
 ],
 "metadata": {
  "kernelspec": {
   "display_name": "Python 3 (ipykernel)",
   "language": "python",
   "name": "python3"
  },
  "language_info": {
   "codemirror_mode": {
    "name": "ipython",
    "version": 3
   },
   "file_extension": ".py",
   "mimetype": "text/x-python",
   "name": "python",
   "nbconvert_exporter": "python",
   "pygments_lexer": "ipython3",
   "version": "3.8.10"
  }
 },
 "nbformat": 4,
 "nbformat_minor": 5
}
